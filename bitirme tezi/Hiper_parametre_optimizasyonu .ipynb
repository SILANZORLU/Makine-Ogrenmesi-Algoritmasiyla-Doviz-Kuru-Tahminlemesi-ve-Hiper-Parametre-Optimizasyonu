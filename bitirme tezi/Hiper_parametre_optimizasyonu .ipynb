{
 "cells": [
  {
   "cell_type": "code",
   "execution_count": 1,
   "id": "45869d3b-af3a-4728-9891-496af420dff0",
   "metadata": {},
   "outputs": [
    {
     "name": "stdout",
     "output_type": "stream",
     "text": [
      "Defaulting to user installation because normal site-packages is not writeable\n",
      "Requirement already satisfied: scikit-learn in c:\\programdata\\anaconda3\\lib\\site-packages (1.4.2)\n",
      "Requirement already satisfied: numpy>=1.19.5 in c:\\programdata\\anaconda3\\lib\\site-packages (from scikit-learn) (1.24.4)\n",
      "Requirement already satisfied: scipy>=1.6.0 in c:\\programdata\\anaconda3\\lib\\site-packages (from scikit-learn) (1.10.1)\n",
      "Requirement already satisfied: joblib>=1.2.0 in c:\\programdata\\anaconda3\\lib\\site-packages (from scikit-learn) (1.3.2)\n",
      "Requirement already satisfied: threadpoolctl>=2.0.0 in c:\\programdata\\anaconda3\\lib\\site-packages (from scikit-learn) (3.5.0)\n",
      "Note: you may need to restart the kernel to use updated packages.\n"
     ]
    }
   ],
   "source": [
    "pip install scikit-learn"
   ]
  },
  {
   "cell_type": "code",
   "execution_count": 28,
   "id": "dd5f95ac-5257-4df4-982d-c4925d15f1bb",
   "metadata": {},
   "outputs": [],
   "source": [
    "import pandas as pd\n",
    "import numpy as np\n",
    "import yfinance as yf\n",
    "from sklearn.tree import DecisionTreeRegressor\n",
    "from sklearn.model_selection import train_test_split\n",
    "import seaborn as sns\n",
    "import matplotlib.pyplot as plt\n",
    "import datetime as dt\n",
    "from datetime import datetime\n",
    "from sklearn.ensemble import RandomForestClassifier, RandomForestRegressor\n",
    "from sklearn.metrics import accuracy_score\n",
    "from sklearn.metrics import mean_squared_error, r2_score\n",
    "from sklearn.ensemble import ExtraTreesRegressor\n",
    "from sklearn.model_selection import GridSearchCV\n",
    "from sklearn.model_selection import GridSearchCV, train_test_split\n",
    "from sklearn.datasets import make_regression  # Veri kümesi oluşturmak için örnek\n",
    "from sklearn.preprocessing import MinMaxScaler"
   ]
  },
  {
   "cell_type": "code",
   "execution_count": 29,
   "id": "c690adfe-8b1f-4e35-8a89-e665ed7cbabb",
   "metadata": {},
   "outputs": [],
   "source": [
    "X = data_USD[[\"Open\", \"High\", \"Low\", \"Day\", \"Month\", \"Year\"]]  # Bağımsız değişkenler\n",
    "y= data_USD[\"Close\"]\n",
    "\n",
    "y = np.ravel(y)"
   ]
  },
  {
   "cell_type": "code",
   "execution_count": 33,
   "id": "a3ffc65a",
   "metadata": {},
   "outputs": [],
   "source": [
    "cols = ['Open', 'High', 'Low', 'Close']\n",
    "\n",
    "for col in cols:\n",
    "    # , → . çevir\n",
    "    data_USD[col] = data_USD[col].astype(str).str.replace(',', '.', regex=False)\n",
    "    # string → float\n",
    "    data_USD[col] = pd.to_numeric(data_USD[col], errors='coerce')\n",
    "\n",
    "# Eksik varsa at (isteğe bağlı)\n",
    "data_USD = data_USD.dropna()"
   ]
  },
  {
   "cell_type": "code",
   "execution_count": 34,
   "id": "6c0e20ea",
   "metadata": {},
   "outputs": [],
   "source": [
    "X_train, X_test, y_train, y_test = train_test_split(X, y, test_size=0.2, random_state=42)"
   ]
  },
  {
   "cell_type": "code",
   "execution_count": 35,
   "id": "eb5cb78e",
   "metadata": {},
   "outputs": [],
   "source": [
    "ext_reg = ExtraTreesRegressor(n_estimators=100, random_state=42)"
   ]
  },
  {
   "cell_type": "code",
   "execution_count": 40,
   "id": "d143e1a0",
   "metadata": {},
   "outputs": [
    {
     "name": "stdout",
     "output_type": "stream",
     "text": [
      "Eğitim MSE: 1.0698469073887142e-28\n",
      "Test MSE: 0.03314431053146155\n",
      "Eğitim R²: 1.0\n",
      "Test R²: 0.9991141639817188\n"
     ]
    }
   ],
   "source": [
    "X = data_USD[[\"Open\", \"High\", \"Low\", \"Day\", \"Month\", \"Year\"]]\n",
    "y = data_USD[\"Close\"]\n",
    "\n",
    "from sklearn.model_selection import train_test_split\n",
    "X_train, X_test, y_train, y_test = train_test_split(X, y, test_size=0.2, random_state=42)\n",
    "\n",
    "from sklearn.ensemble import ExtraTreesRegressor\n",
    "from sklearn.metrics import mean_squared_error, r2_score\n",
    "\n",
    "ext_reg = ExtraTreesRegressor(n_estimators=100, random_state=42)\n",
    "ext_reg.fit(X_train, y_train)\n",
    "\n",
    "# Tahmin ve metrikler\n",
    "train_predictions = ext_reg.predict(X_train)\n",
    "test_predictions = ext_reg.predict(X_test)\n",
    "\n",
    "print(\"Eğitim MSE:\", mean_squared_error(y_train, train_predictions))\n",
    "print(\"Test MSE:\", mean_squared_error(y_test, test_predictions))\n",
    "print(\"Eğitim R²:\", r2_score(y_train, train_predictions))\n",
    "print(\"Test R²:\", r2_score(y_test, test_predictions))\n"
   ]
  },
  {
   "cell_type": "markdown",
   "id": "5924fe45-5375-42ed-af8e-4bbfeb9d2e36",
   "metadata": {},
   "source": [
    "Manual Search for Hyperparameters"
   ]
  },
  {
   "cell_type": "code",
   "execution_count": 41,
   "id": "eed95eab-965d-4a20-94ca-18bd47f3c672",
   "metadata": {},
   "outputs": [
    {
     "name": "stdout",
     "output_type": "stream",
     "text": [
      "En iyi parametreler: {'n_estimators': 50, 'max_depth': None, 'min_samples_split': 5, 'min_samples_leaf': 1, 'max_features': None}\n",
      "En düşük Test MSE: 0.03148086865509779\n",
      "Eğitim Verisi MSE: 0.0025685300233840628\n",
      "Test Verisi MSE: 0.03148086865509779\n",
      "Eğitim Verisi R² Skoru: 0.9999303372242279\n",
      "Test Verisi R² Skoru: 0.9991586221920352\n"
     ]
    }
   ],
   "source": [
    "from sklearn.ensemble import ExtraTreesRegressor\n",
    "from sklearn.metrics import mean_squared_error, r2_score\n",
    "from itertools import product\n",
    "\n",
    "# Hiperparametre listeleri\n",
    "trees = [50, 100, 200]\n",
    "max_depths = [None, 10, 20]\n",
    "min_samples_splits = [2, 5, 10]\n",
    "min_samples_leaves = [1, 2, 4]\n",
    "max_features_opts = [None, \"sqrt\", \"log2\"]  # 'auto' yerine None kullanıldı\n",
    "\n",
    "best_params = None\n",
    "best_mse = float(\"inf\")\n",
    "\n",
    "# Farklı parametre kombinasyonlarını test et\n",
    "for n_estimators, max_depth, min_samples_split, min_samples_leaf, max_features in product(trees, max_depths, min_samples_splits, min_samples_leaves, max_features_opts):\n",
    "    ext_reg = ExtraTreesRegressor(\n",
    "        n_estimators=n_estimators,\n",
    "        max_depth=max_depth,\n",
    "        min_samples_split=min_samples_split,\n",
    "        min_samples_leaf=min_samples_leaf,\n",
    "        max_features=max_features,\n",
    "        random_state=42\n",
    "    )\n",
    "    ext_reg.fit(X_train, y_train)\n",
    "    test_predictions = ext_reg.predict(X_test)\n",
    "    test_mse = mean_squared_error(y_test, test_predictions)\n",
    "    \n",
    "    if test_mse < best_mse:\n",
    "        best_mse = test_mse\n",
    "        best_params = {\n",
    "            \"n_estimators\": n_estimators,\n",
    "            \"max_depth\": max_depth,\n",
    "            \"min_samples_split\": min_samples_split,\n",
    "            \"min_samples_leaf\": min_samples_leaf,\n",
    "            \"max_features\": max_features\n",
    "        }\n",
    "\n",
    "print(\"En iyi parametreler:\", best_params)\n",
    "print(\"En düşük Test MSE:\", best_mse)\n",
    "\n",
    "# En iyi parametrelerle modeli eğit\n",
    "best_model = ExtraTreesRegressor(**best_params, random_state=42)\n",
    "best_model.fit(X_train, y_train)\n",
    "train_predictions = best_model.predict(X_train)\n",
    "test_predictions = best_model.predict(X_test)\n",
    "\n",
    "# Son performans değerlendirmesi\n",
    "train_mse = mean_squared_error(y_train, train_predictions)\n",
    "test_mse = mean_squared_error(y_test, test_predictions)\n",
    "train_r2 = r2_score(y_train, train_predictions)\n",
    "test_r2 = r2_score(y_test, test_predictions)\n",
    "\n",
    "print(f\"Eğitim Verisi MSE: {train_mse}\")\n",
    "print(f\"Test Verisi MSE: {test_mse}\")\n",
    "print(f\"Eğitim Verisi R² Skoru: {train_r2}\")\n",
    "print(f\"Test Verisi R² Skoru: {test_r2}\")"
   ]
  },
  {
   "cell_type": "markdown",
   "id": "8ca600a3-ef13-443e-9050-177b28aeff25",
   "metadata": {},
   "source": [
    "GRID SEARCH"
   ]
  },
  {
   "cell_type": "code",
   "execution_count": 42,
   "id": "ccbe73ec-ff20-4e70-8a17-1bb40008695d",
   "metadata": {},
   "outputs": [
    {
     "name": "stdout",
     "output_type": "stream",
     "text": [
      "Fitting 5 folds for each of 243 candidates, totalling 1215 fits\n",
      "Grid Search En İyi Parametreler: {'max_depth': None, 'max_features': None, 'min_samples_leaf': 1, 'min_samples_split': 5, 'n_estimators': 200}\n",
      "Grid Search En İyi MSE: 0.024593394674114664\n",
      "Grid Search En İyi R2: 0.9991099607337275\n"
     ]
    }
   ],
   "source": [
    "# Grid Search ile hiperparametre optimizasyonu\n",
    "grid_params = {\n",
    "    \"n_estimators\": [50, 100, 200],\n",
    "    \"max_depth\": [None, 10, 20],\n",
    "    \"min_samples_split\": [2, 5, 10],\n",
    "    \"min_samples_leaf\": [1, 2, 4],\n",
    "    \"max_features\": [None, \"sqrt\", \"log2\"]\n",
    "}\n",
    "\n",
    "grid_search = GridSearchCV(ExtraTreesRegressor(random_state=42), grid_params, cv=5, scoring='neg_mean_squared_error', n_jobs=-1, verbose=1)\n",
    "\n",
    "grid_search.fit(X_train, y_train)\n",
    "\n",
    "print(\"Grid Search En İyi Parametreler:\", grid_search.best_params_)\n",
    "print(\"Grid Search En İyi MSE:\", -grid_search.best_score_)\n",
    "print(\"Grid Search En İyi R2:\", grid_search.best_estimator_.score(X_test, y_test))"
   ]
  },
  {
   "cell_type": "markdown",
   "id": "b5782371-fed1-48aa-81f6-2b6c3cd98024",
   "metadata": {},
   "source": [
    "RANDOM SEARCH"
   ]
  },
  {
   "cell_type": "code",
   "execution_count": 43,
   "id": "a81f4865-0f3f-4800-ac54-4d300d5417db",
   "metadata": {},
   "outputs": [
    {
     "name": "stdout",
     "output_type": "stream",
     "text": [
      "Fitting 5 folds for each of 100 candidates, totalling 500 fits\n"
     ]
    },
    {
     "name": "stderr",
     "output_type": "stream",
     "text": [
      "C:\\ProgramData\\anaconda3\\Lib\\site-packages\\sklearn\\model_selection\\_validation.py:547: FitFailedWarning: \n",
      "145 fits failed out of a total of 500.\n",
      "The score on these train-test partitions for these parameters will be set to nan.\n",
      "If these failures are not expected, you can try to debug them by setting error_score='raise'.\n",
      "\n",
      "Below are more details about the failures:\n",
      "--------------------------------------------------------------------------------\n",
      "140 fits failed with the following error:\n",
      "Traceback (most recent call last):\n",
      "  File \"C:\\ProgramData\\anaconda3\\Lib\\site-packages\\sklearn\\model_selection\\_validation.py\", line 895, in _fit_and_score\n",
      "    estimator.fit(X_train, y_train, **fit_params)\n",
      "  File \"C:\\ProgramData\\anaconda3\\Lib\\site-packages\\sklearn\\base.py\", line 1467, in wrapper\n",
      "    estimator._validate_params()\n",
      "  File \"C:\\ProgramData\\anaconda3\\Lib\\site-packages\\sklearn\\base.py\", line 666, in _validate_params\n",
      "    validate_parameter_constraints(\n",
      "  File \"C:\\ProgramData\\anaconda3\\Lib\\site-packages\\sklearn\\utils\\_param_validation.py\", line 95, in validate_parameter_constraints\n",
      "    raise InvalidParameterError(\n",
      "sklearn.utils._param_validation.InvalidParameterError: The 'max_features' parameter of ExtraTreesRegressor must be an int in the range [1, inf), a float in the range (0.0, 1.0], a str among {'sqrt', 'log2'} or None. Got 'auto' instead.\n",
      "\n",
      "--------------------------------------------------------------------------------\n",
      "5 fits failed with the following error:\n",
      "Traceback (most recent call last):\n",
      "  File \"C:\\ProgramData\\anaconda3\\Lib\\site-packages\\sklearn\\model_selection\\_validation.py\", line 895, in _fit_and_score\n",
      "    estimator.fit(X_train, y_train, **fit_params)\n",
      "  File \"C:\\ProgramData\\anaconda3\\Lib\\site-packages\\sklearn\\base.py\", line 1467, in wrapper\n",
      "    estimator._validate_params()\n",
      "  File \"C:\\ProgramData\\anaconda3\\Lib\\site-packages\\sklearn\\base.py\", line 666, in _validate_params\n",
      "    validate_parameter_constraints(\n",
      "  File \"C:\\ProgramData\\anaconda3\\Lib\\site-packages\\sklearn\\utils\\_param_validation.py\", line 95, in validate_parameter_constraints\n",
      "    raise InvalidParameterError(\n",
      "sklearn.utils._param_validation.InvalidParameterError: The 'max_features' parameter of ExtraTreesRegressor must be an int in the range [1, inf), a float in the range (0.0, 1.0], a str among {'log2', 'sqrt'} or None. Got 'auto' instead.\n",
      "\n",
      "  warnings.warn(some_fits_failed_message, FitFailedWarning)\n",
      "C:\\ProgramData\\anaconda3\\Lib\\site-packages\\sklearn\\model_selection\\_search.py:1051: UserWarning: One or more of the test scores are non-finite: [0.99819552 0.99823805 0.99880417 0.99905046 0.99854655 0.9989091\n",
      "        nan 0.9988634  0.99889057        nan 0.99859363 0.99898578\n",
      " 0.99896359 0.99871587        nan        nan        nan 0.99891252\n",
      "        nan        nan 0.99864998 0.99900615 0.99910698        nan\n",
      " 0.99866806        nan 0.99846205 0.99871772 0.99797966 0.99795417\n",
      " 0.99879911 0.99871821        nan 0.9987212         nan 0.99906537\n",
      " 0.99885113        nan 0.99898452 0.99900071 0.99899045        nan\n",
      " 0.99797836        nan 0.99890841 0.99912931 0.99848354 0.99878453\n",
      "        nan 0.99911739 0.9990071  0.99878402 0.99905626 0.99909852\n",
      " 0.99912281 0.99890323        nan 0.99861613        nan 0.99879244\n",
      " 0.99906558        nan        nan        nan 0.99870914 0.99881211\n",
      " 0.99877754        nan 0.99893341 0.99899169 0.99902483 0.99832062\n",
      " 0.99847716 0.99903079        nan 0.99865075 0.99891157 0.998652\n",
      " 0.99886999        nan 0.99893702 0.99912749 0.99902296 0.99899394\n",
      " 0.99916585        nan 0.99820055 0.99842446        nan 0.99865533\n",
      " 0.99914139 0.99890489 0.99794651        nan        nan 0.99897412\n",
      " 0.9985007         nan 0.99862467        nan]\n",
      "  warnings.warn(\n"
     ]
    },
    {
     "name": "stdout",
     "output_type": "stream",
     "text": [
      "En İyi Parametreler: {'bootstrap': True, 'max_depth': 46, 'max_features': 'log2', 'min_samples_leaf': 1, 'min_samples_split': 2, 'n_estimators': 123}\n",
      "En İyi MSE: -0.9991658494902602\n",
      "Eğitim Verisi MSE: 0.004175595538487262\n",
      "Test Verisi MSE: 0.03884133449732873\n",
      "Eğitim Verisi R² Skoru: 0.9998867509536332\n",
      "Test Verisi R² Skoru: 0.9989619016795301\n"
     ]
    }
   ],
   "source": [
    "from sklearn.model_selection import RandomizedSearchCV\n",
    "from sklearn.ensemble import ExtraTreesRegressor\n",
    "from scipy.stats import randint\n",
    "\n",
    "# Parametre aralığını tanımlayın\n",
    "param_dist = {\n",
    "    'n_estimators': randint(50, 200),\n",
    "    'max_features': ['auto', 'sqrt', 'log2'],\n",
    "    'max_depth': randint(10, 50),\n",
    "    'min_samples_split': randint(2, 10),\n",
    "    'min_samples_leaf': randint(1, 10),\n",
    "    'bootstrap': [True, False]\n",
    "}\n",
    "\n",
    "# ExtraTreesRegressor modelini oluşturun\n",
    "ext_reg = ExtraTreesRegressor(random_state=42)\n",
    "\n",
    "# RandomizedSearchCV'yi tanımlayın\n",
    "random_search = RandomizedSearchCV(ext_reg, param_distributions=param_dist, \n",
    "                                   n_iter=100, cv=5, \n",
    "                                   verbose=2, random_state=42, n_jobs=-1)\n",
    "\n",
    "# Modeli eğitin\n",
    "random_search.fit(X_train, y_train)\n",
    "\n",
    "# En iyi parametreleri ve skoru yazdırın\n",
    "print(f\"En İyi Parametreler: {random_search.best_params_}\")\n",
    "print(f\"En İyi MSE: {-random_search.best_score_}\")\n",
    "\n",
    "# En iyi modeli kullanarak tahminler yapın\n",
    "train_predictions = random_search.best_estimator_.predict(X_train)\n",
    "test_predictions = random_search.best_estimator_.predict(X_test)\n",
    "\n",
    "# MSE ve R² skorlarını hesaplayın\n",
    "train_mse = mean_squared_error(y_train, train_predictions)\n",
    "test_mse = mean_squared_error(y_test, test_predictions)\n",
    "\n",
    "print(f\"Eğitim Verisi MSE: {train_mse}\")\n",
    "print(f\"Test Verisi MSE: {test_mse}\")\n",
    "\n",
    "train_r2 = r2_score(y_train, train_predictions)\n",
    "test_r2 = r2_score(y_test, test_predictions)\n",
    "\n",
    "print(f\"Eğitim Verisi R² Skoru: {train_r2}\")\n",
    "print(f\"Test Verisi R² Skoru: {test_r2}\")\n"
   ]
  },
  {
   "cell_type": "code",
   "execution_count": null,
   "id": "13ebd127-490f-4bdc-92b8-16fffd5991bb",
   "metadata": {},
   "outputs": [],
   "source": []
  }
 ],
 "metadata": {
  "kernelspec": {
   "display_name": "Python 3 (ipykernel)",
   "language": "python",
   "name": "python3"
  },
  "language_info": {
   "codemirror_mode": {
    "name": "ipython",
    "version": 3
   },
   "file_extension": ".py",
   "mimetype": "text/x-python",
   "name": "python",
   "nbconvert_exporter": "python",
   "pygments_lexer": "ipython3",
   "version": "3.11.5"
  }
 },
 "nbformat": 4,
 "nbformat_minor": 5
}
